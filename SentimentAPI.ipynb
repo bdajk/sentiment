{
  "nbformat": 4,
  "nbformat_minor": 0,
  "metadata": {
    "colab": {
      "name": "SentimentAPI.ipynb",
      "version": "0.3.2",
      "provenance": [],
      "include_colab_link": true
    },
    "kernelspec": {
      "name": "python3",
      "display_name": "Python 3"
    }
  },
  "cells": [
    {
      "cell_type": "markdown",
      "metadata": {
        "id": "view-in-github",
        "colab_type": "text"
      },
      "source": [
        "<a href=\"https://colab.research.google.com/github/bdajk/sentiment/blob/master/SentimentAPI.ipynb\" target=\"_parent\"><img src=\"https://colab.research.google.com/assets/colab-badge.svg\" alt=\"Open In Colab\"/></a>"
      ]
    },
    {
      "metadata": {
        "id": "tupQmCm8DKRR",
        "colab_type": "code",
        "outputId": "64b4257f-b009-4da6-da48-2b534daa29b2",
        "colab": {
          "base_uri": "https://localhost:8080/",
          "height": 190
        }
      },
      "cell_type": "code",
      "source": [
        "# @Broc - Feb 2019\n",
        "# Q) Hey Watson: does sentiment vary in articles on BlockChain \n",
        "#    published in the past month between the FT, WSJ, and BBG? \n",
        "\n",
        "# 1. Install required libraries\n",
        "!pip install -q newsapi-python\n",
        "!pip install --upgrade \"watson-developer-cloud>=2.5.1\"\n",
        "\n",
        "from newsapi import NewsApiClient\n",
        "import pandas as pd\n",
        "import json\n",
        "import requests\n",
        "import seaborn as sns"
      ],
      "execution_count": 0,
      "outputs": [
        {
          "output_type": "stream",
          "text": [
            "Requirement already up-to-date: watson-developer-cloud>=2.5.1 in /usr/local/lib/python3.6/dist-packages (2.8.0)\n",
            "Requirement already satisfied, skipping upgrade: websocket-client==0.48.0 in /usr/local/lib/python3.6/dist-packages (from watson-developer-cloud>=2.5.1) (0.48.0)\n",
            "Requirement already satisfied, skipping upgrade: python-dateutil>=2.5.3 in /usr/local/lib/python3.6/dist-packages (from watson-developer-cloud>=2.5.1) (2.5.3)\n",
            "Requirement already satisfied, skipping upgrade: requests<3.0,>=2.0 in /usr/local/lib/python3.6/dist-packages (from watson-developer-cloud>=2.5.1) (2.17.1)\n",
            "Requirement already satisfied, skipping upgrade: six in /usr/local/lib/python3.6/dist-packages (from websocket-client==0.48.0->watson-developer-cloud>=2.5.1) (1.11.0)\n",
            "Requirement already satisfied, skipping upgrade: chardet<3.1.0,>=3.0.2 in /usr/local/lib/python3.6/dist-packages (from requests<3.0,>=2.0->watson-developer-cloud>=2.5.1) (3.0.4)\n",
            "Requirement already satisfied, skipping upgrade: idna<2.6,>=2.5 in /usr/local/lib/python3.6/dist-packages (from requests<3.0,>=2.0->watson-developer-cloud>=2.5.1) (2.5)\n",
            "Requirement already satisfied, skipping upgrade: certifi>=2017.4.17 in /usr/local/lib/python3.6/dist-packages (from requests<3.0,>=2.0->watson-developer-cloud>=2.5.1) (2018.11.29)\n",
            "Requirement already satisfied, skipping upgrade: urllib3<1.22,>=1.21.1 in /usr/local/lib/python3.6/dist-packages (from requests<3.0,>=2.0->watson-developer-cloud>=2.5.1) (1.21.1)\n"
          ],
          "name": "stdout"
        }
      ]
    },
    {
      "metadata": {
        "id": "0bIAk2YjIMRN",
        "colab_type": "code",
        "colab": {}
      },
      "cell_type": "code",
      "source": [
        "# 2. Setup Auth and Keys\n",
        "# 2a: get your NewsAPIKey from https://newsapi.org/register : \n",
        "newsapi = NewsApiClient(api_key='ade4e5a053134846b7ff2acb7aac4002')\n",
        "\n",
        "# 2b: get your IBM Cloud Credentials from: https://cloud.ibm.com/catalog/services/natural-language-understanding\n",
        "watson_username = \"711b4792-170d-490f-ac0e-5d785a271868\"\n",
        "watson_password = \"No7JUOE1UOYu\""
      ],
      "execution_count": 0,
      "outputs": []
    },
    {
      "metadata": {
        "id": "4LX_n4oJIcx2",
        "colab_type": "code",
        "colab": {}
      },
      "cell_type": "code",
      "source": [
        "# Fetch latest 100 articles from NewsAPI on bitcoin from the BBG and FT\n",
        "all_articles = newsapi.get_everything(q='bitcoin',\n",
        "                                      sources='bloomberg,financial-times',\n",
        "                                      language='en',\n",
        "                                      page_size=100,\n",
        "                                      sort_by='publishedAt',\n",
        "                                     )"
      ],
      "execution_count": 0,
      "outputs": []
    },
    {
      "metadata": {
        "id": "DnC2lf12Wwh0",
        "colab_type": "code",
        "colab": {}
      },
      "cell_type": "code",
      "source": [
        "# call Watson Text Analyzer to get the sentiment of a body of text\n",
        "def getSentiment( content ):\n",
        "  endpoint = \"https://gateway.watsonplatform.net/natural-language-understanding/api/v1/analyze\"\n",
        "    \n",
        "  parameters = {\n",
        "        'features': 'sentiment',\n",
        "        'version' : '2017-02-27',\n",
        "        'text': content,\n",
        "        'language' : 'en',\n",
        "        # url = url_to_analyze, this is an alternative to sending the text\n",
        "  }\n",
        "\n",
        "  resp = requests.get(endpoint, params=parameters, auth=(username, password))\n",
        "    \n",
        "  return resp.json()\n",
        "  "
      ],
      "execution_count": 0,
      "outputs": []
    },
    {
      "metadata": {
        "id": "yVHEaBkoPHVS",
        "colab_type": "code",
        "colab": {}
      },
      "cell_type": "code",
      "source": [
        "# Get content from an article for analysis\n",
        "# (not all articles have content - in which case use the description or title) \n",
        "\n",
        "def getContent( article ):\n",
        "    if article['content']!=None:\n",
        "      bestContent = article['content']\n",
        "    elif article['description']!=None:\n",
        "      bestContent = article['description']\n",
        "    else:\n",
        "      bestContent = article['title']\n",
        "\n",
        "    return bestContent"
      ],
      "execution_count": 0,
      "outputs": []
    },
    {
      "metadata": {
        "id": "SKYTwVoy7HW3",
        "colab_type": "code",
        "colab": {}
      },
      "cell_type": "code",
      "source": [
        "# Call Watson to get the sentiment score for each Article\n",
        "\n",
        "sentScores = pd.DataFrame(columns=['source','sentiment_score'])\n",
        "\n",
        "for article in all_articles['articles']:\n",
        "    sent_analysis = getSentiment( getContent( article ) )\n",
        "    sentScores = sentScores.append({'source': article['source']['name'],\n",
        "                                    'sentiment_score': sent_analysis['sentiment']['document']['score']},\n",
        "                                   ignore_index=True)"
      ],
      "execution_count": 0,
      "outputs": []
    },
    {
      "metadata": {
        "id": "L1ROAZFdTrse",
        "colab_type": "code",
        "outputId": "beaee814-f2a2-42b0-e4ca-38c6e0613614",
        "colab": {
          "base_uri": "https://localhost:8080/",
          "height": 427
        }
      },
      "cell_type": "code",
      "source": [
        "# plot the results - using seaborn\n",
        "sns.boxplot( x=sentScores[\"source\"],\n",
        "            y=sentScores[\"sentiment_score\"], \n",
        "            palette=\"Blues\" ).set_title('Sentiment scores of recent BlockChain articles')\n"
      ],
      "execution_count": 0,
      "outputs": [
        {
          "output_type": "stream",
          "text": [
            "/usr/local/lib/python3.6/dist-packages/seaborn/categorical.py:454: FutureWarning: remove_na is deprecated and is a private function. Do not use.\n",
            "  box_data = remove_na(group_data)\n"
          ],
          "name": "stderr"
        },
        {
          "output_type": "execute_result",
          "data": {
            "text/plain": [
              "Text(0.5, 1.0, 'Sentiment scores of recent BlockChain articles')"
            ]
          },
          "metadata": {
            "tags": []
          },
          "execution_count": 46
        },
        {
          "output_type": "display_data",
          "data": {
            "image/png": "[encoded data removed]",
            "text/plain": [
              "<Figure size 576x396 with 1 Axes>"
            ]
          },
          "metadata": {
            "tags": []
          }
        }
      ]
    }
  ]
}